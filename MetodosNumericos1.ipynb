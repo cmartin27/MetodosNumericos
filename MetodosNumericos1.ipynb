{
  "nbformat": 4,
  "nbformat_minor": 0,
  "metadata": {
    "colab": {
      "name": "MetodosNumericos1.ipynb",
      "provenance": [],
      "authorship_tag": "ABX9TyOdy/ZUnmwbpWJOl0iW+RBV",
      "include_colab_link": true
    },
    "kernelspec": {
      "name": "python3",
      "display_name": "Python 3"
    }
  },
  "cells": [
    {
      "cell_type": "markdown",
      "metadata": {
        "id": "view-in-github",
        "colab_type": "text"
      },
      "source": [
        "<a href=\"https://colab.research.google.com/github/cmartin27/MetodosNumericos/blob/main/MetodosNumericos1.ipynb\" target=\"_parent\"><img src=\"https://colab.research.google.com/assets/colab-badge.svg\" alt=\"Open In Colab\"/></a>"
      ]
    },
    {
      "cell_type": "markdown",
      "metadata": {
        "id": "7aD9yj97PcT2"
      },
      "source": [
        "# Ejercicio B.5\n",
        "La ecuación $f(x) = x^3 + 4x^2 − 10 = 0$ tiene una raiz en el intervalo[1, 2]. Aproxima la raiz con el método que quieras. Determina el número de pasos que se necesitan para conseguir una precisión de $10^{-3}$ usando $a_1$ = 1 y $b_1$ = 2."
      ]
    },
    {
      "cell_type": "code",
      "metadata": {
        "colab": {
          "base_uri": "https://localhost:8080/",
          "height": 0
        },
        "id": "NidWaj3vRMUE",
        "outputId": "1e0bb7b7-3906-4259-92a2-2dbf93f3409b"
      },
      "source": [
        "# EJERCICIO B.5\n",
        "\n",
        "import numpy as np\n",
        "\n",
        "# Función solicitada\n",
        "def f(x):\n",
        "  return x**3 + 4*x**2-10\n",
        "\n",
        "# Función que calcula el número de iteraciones necesarias para calcula la raiz \n",
        "# de un intervalo [a,b] con cierta precisión\n",
        "# Parámetros:\n",
        "#     - a: valor inferior del intervalo\n",
        "#     - b: valor superior del intervalo\n",
        "#     - precisión: valor de la precisión para calcular la raiz\n",
        "# Devuelve: Número de iteraciones estimadas para encontrar la raiz\n",
        "\n",
        "def estimaIteraciones(a,b,precision):\n",
        "  return (np.log10(b-a)-np.log10(precision))/np.log10(2)\n",
        "\n",
        "\n",
        "# Define valores iniciales\n",
        "a,b = 1,2               # Valores del intervalo [a,b]\n",
        "c = (a+b)/2             # Punto medio del intervalo\n",
        "it = 0                  # Iteraciones\n",
        "precision = 10**-3      # Precisión\n",
        "\n",
        "# Estimación de iteraciones\n",
        "maxIt = estimaIteraciones(a,b,precision)\n",
        "print('Estimación de iteraciones', maxIt)\n",
        "\n",
        "# Calcula la raiz en el intervlao [1,2] con el método de bisección\n",
        "while abs(f(c)) > precision:\n",
        "    # Calcula el punto medio\n",
        "    c = (a+b)/2\n",
        "\n",
        "    # Define los valores del nuevo intervalo\n",
        "    if f(a)*f(c) < 0:\n",
        "      b = c\n",
        "    elif f(b)*f(c) < 0:\n",
        "      a = c\n",
        "\n",
        "    # Acumula una iteración\n",
        "    it += 1\n",
        "\n",
        "print('Valor de la raiz:',c)\n",
        "print('Número de iteraciones:',it)"
      ],
      "execution_count": 9,
      "outputs": [
        {
          "output_type": "stream",
          "text": [
            "Estimación de iteraciones 9.965784284662087\n",
            "Valor de la raiz: 1.365234375\n",
            "Número de iteraciones: 9\n"
          ],
          "name": "stdout"
        }
      ]
    },
    {
      "cell_type": "markdown",
      "metadata": {
        "id": "HpDXi_-GWSi3"
      },
      "source": [
        "# Ejercicio B.2\n",
        "Encuentra una aproximación de la raiz de $x − (1/2)cos^{2}(x) = 0$ con un error del orden de $2*10^{−2}$. Usando el método de la bisección.\n"
      ]
    },
    {
      "cell_type": "code",
      "metadata": {
        "colab": {
          "base_uri": "https://localhost:8080/",
          "height": 0
        },
        "id": "s01N3joOUFjX",
        "outputId": "d6d7faf5-a408-4618-c62c-993a566f5414"
      },
      "source": [
        "# EJERCICIO B.2\n",
        "\n",
        "# Función solicitada\n",
        "def f(x):\n",
        "  return x - (0.5)*np.cos(x)**2\n",
        "\n",
        "\n",
        "# Define parámetros\n",
        "\n",
        "a,b = -1,1      # Valores del intervalo [a,b]\n",
        "c = (a+b)/2     # Punto medio del intervalo\n",
        "it = 0          # Número de iteraciones\n",
        "precision = 2*10**-2        # Precisión\n",
        "\n",
        "# Calcula la raiz en el intervalo [-2,2] con el método de bisección\n",
        "while abs(f(c)) > precision:\n",
        "\n",
        "    # Calcula el punto medio\n",
        "    c = (a+b)/2\n",
        "\n",
        "    # Define los valores del nuevo intervalo\n",
        "    if f(a)*f(c) < 0:\n",
        "      b = c\n",
        "    elif f(b)*f(c) < 0:\n",
        "      a = c\n",
        "    \n",
        "    # Acumula una iteración  \n",
        "    it += 1\n",
        "\n",
        "print('Valor de la raiz:',c)\n",
        "print('Número de iteraciones:',it)\n"
      ],
      "execution_count": 19,
      "outputs": [
        {
          "output_type": "stream",
          "text": [
            "Valor de la raiz: 0.40625\n",
            "Número de iteraciones: 6\n"
          ],
          "name": "stdout"
        }
      ]
    },
    {
      "cell_type": "markdown",
      "metadata": {
        "id": "aWC1fYSeZIuK"
      },
      "source": [
        "# Ejercicio B.6\n",
        "Encuentra la $\\sqrt{2}$. Usando el método de la bisección."
      ]
    },
    {
      "cell_type": "code",
      "metadata": {
        "colab": {
          "base_uri": "https://localhost:8080/",
          "height": 0
        },
        "id": "6QtLoWz_W0os",
        "outputId": "5417a69c-b308-401d-eb7f-f6ff07c0e7d0"
      },
      "source": [
        "# EJERCICIO B.6\n",
        "\n",
        "# Defino la función que cumple f(sqrt(2)) = 0, es decir,\n",
        "# f(x) = x^2 - 2\n",
        "def f(x):\n",
        "  return x**(2)-2\n",
        "\n",
        "\n",
        "# Define parámetros\n",
        "\n",
        "a,b = 0,2           # Valor del intervalo [a,b]\n",
        "c = (a+b)/2         # Punto medio del intervalo\n",
        "it = 0              # Número de iteraciones\n",
        "precision = 2*10**-2    # Precisión\n",
        "\n",
        "\n",
        "# Calcula la raiz en el intervalo [-2,2] con el método de bisección\n",
        "while abs(f(c)) > precision:\n",
        "\n",
        "    # Calcula el punto medio\n",
        "    c = (a+b)/2\n",
        "\n",
        "    # Define los valores del nuevo intervalo\n",
        "    if f(a)*f(c) < 0:\n",
        "      b = c\n",
        "    elif f(b)*f(c) < 0:\n",
        "      a = c\n",
        "    # Acumula una iteración  \n",
        "    it += 1\n",
        "\n",
        "print('Valor de la raiz:',c)\n",
        "print('Número de iteraciones:',it)"
      ],
      "execution_count": 11,
      "outputs": [
        {
          "output_type": "stream",
          "text": [
            "Valor de la raiz: 1.4140625\n",
            "Número de iteraciones: 8\n"
          ],
          "name": "stdout"
        }
      ]
    }
  ]
}