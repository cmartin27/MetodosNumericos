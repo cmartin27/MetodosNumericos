{
  "nbformat": 4,
  "nbformat_minor": 0,
  "metadata": {
    "colab": {
      "name": "Tema2-SistemasNoLineales.ipynb",
      "provenance": [],
      "toc_visible": true,
      "authorship_tag": "ABX9TyM1o+N71Y/yR9Ce9ttOTJia",
      "include_colab_link": true
    },
    "kernelspec": {
      "name": "python3",
      "display_name": "Python 3"
    }
  },
  "cells": [
    {
      "cell_type": "markdown",
      "metadata": {
        "id": "view-in-github",
        "colab_type": "text"
      },
      "source": [
        "<a href=\"https://colab.research.google.com/github/cmartin27/MetodosNumericos/blob/main/Tema2_SistemasNoLineales.ipynb\" target=\"_parent\"><img src=\"https://colab.research.google.com/assets/colab-badge.svg\" alt=\"Open In Colab\"/></a>"
      ]
    },
    {
      "cell_type": "markdown",
      "metadata": {
        "id": "wTTAPQuYxJ7P"
      },
      "source": [
        "# Tema 2: Sistemas No Lineales\n",
        "## Métodos Numéricos\n",
        "\n",
        "Carmen Martín Moreno\n"
      ]
    },
    {
      "cell_type": "markdown",
      "metadata": {
        "id": "7aD9yj97PcT2"
      },
      "source": [
        "# Ejercicio B.5\n",
        "La ecuación $f(x) = x^3 + 4x^2 − 10 = 0$ tiene una raiz en el intervalo[1, 2]. Aproxima la raiz con el método que quieras. Determina el número de pasos que se necesitan para conseguir una precisión de $10^{-3}$ usando $a_1$ = 1 y $b_1$ = 2."
      ]
    },
    {
      "cell_type": "code",
      "metadata": {
        "colab": {
          "base_uri": "https://localhost:8080/"
        },
        "id": "NidWaj3vRMUE",
        "outputId": "1e0bb7b7-3906-4259-92a2-2dbf93f3409b"
      },
      "source": [
        "# EJERCICIO B.5\n",
        "\n",
        "import numpy as np\n",
        "\n",
        "# Función solicitada\n",
        "def f(x):\n",
        "  return x**3 + 4*x**2-10\n",
        "\n",
        "# Función que calcula el número de iteraciones necesarias para calcula la raiz \n",
        "# de un intervalo [a,b] con cierta precisión\n",
        "# Parámetros:\n",
        "#     - a: valor inferior del intervalo\n",
        "#     - b: valor superior del intervalo\n",
        "#     - precisión: valor de la precisión para calcular la raiz\n",
        "# Devuelve: Número de iteraciones estimadas para encontrar la raiz\n",
        "\n",
        "def estimaIteraciones(a,b,precision):\n",
        "  return (np.log10(b-a)-np.log10(precision))/np.log10(2)\n",
        "\n",
        "\n",
        "# Define valores iniciales\n",
        "a,b = 1,2               # Valores del intervalo [a,b]\n",
        "c = (a+b)/2             # Punto medio del intervalo\n",
        "it = 0                  # Iteraciones\n",
        "precision = 10**-3      # Precisión\n",
        "\n",
        "# Estimación de iteraciones\n",
        "maxIt = estimaIteraciones(a,b,precision)\n",
        "print('Estimación de iteraciones', maxIt)\n",
        "\n",
        "# Calcula la raiz en el intervlao [1,2] con el método de bisección\n",
        "while abs(f(c)) > precision:\n",
        "    # Calcula el punto medio\n",
        "    c = (a+b)/2\n",
        "\n",
        "    # Define los valores del nuevo intervalo\n",
        "    if f(a)*f(c) < 0:\n",
        "      b = c\n",
        "    elif f(b)*f(c) < 0:\n",
        "      a = c\n",
        "\n",
        "    # Acumula una iteración\n",
        "    it += 1\n",
        "\n",
        "print('Valor de la raiz:',c)\n",
        "print('Número de iteraciones:',it)"
      ],
      "execution_count": null,
      "outputs": [
        {
          "output_type": "stream",
          "text": [
            "Estimación de iteraciones 9.965784284662087\n",
            "Valor de la raiz: 1.365234375\n",
            "Número de iteraciones: 9\n"
          ],
          "name": "stdout"
        }
      ]
    },
    {
      "cell_type": "markdown",
      "metadata": {
        "id": "HpDXi_-GWSi3"
      },
      "source": [
        "# Ejercicio B.2\n",
        "Encuentra una aproximación de la raiz de $x − (1/2)cos^{2}(x) = 0$ con un error del orden de $2*10^{−2}$. Usando el método de la bisección.\n"
      ]
    },
    {
      "cell_type": "code",
      "metadata": {
        "colab": {
          "base_uri": "https://localhost:8080/"
        },
        "id": "s01N3joOUFjX",
        "outputId": "d6d7faf5-a408-4618-c62c-993a566f5414"
      },
      "source": [
        "# EJERCICIO B.2\n",
        "\n",
        "# Función solicitada\n",
        "def f(x):\n",
        "  return x - (0.5)*np.cos(x)**2\n",
        "\n",
        "\n",
        "# Define parámetros\n",
        "\n",
        "a,b = -1,1      # Valores del intervalo [a,b]\n",
        "c = (a+b)/2     # Punto medio del intervalo\n",
        "it = 0          # Número de iteraciones\n",
        "precision = 2*10**-2        # Precisión\n",
        "\n",
        "# Calcula la raiz en el intervalo [-2,2] con el método de bisección\n",
        "while abs(f(c)) > precision:\n",
        "\n",
        "    # Calcula el punto medio\n",
        "    c = (a+b)/2\n",
        "\n",
        "    # Define los valores del nuevo intervalo\n",
        "    if f(a)*f(c) < 0:\n",
        "      b = c\n",
        "    elif f(b)*f(c) < 0:\n",
        "      a = c\n",
        "    \n",
        "    # Acumula una iteración  \n",
        "    it += 1\n",
        "\n",
        "print('Valor de la raiz:',c)\n",
        "print('Número de iteraciones:',it)\n"
      ],
      "execution_count": null,
      "outputs": [
        {
          "output_type": "stream",
          "text": [
            "Valor de la raiz: 0.40625\n",
            "Número de iteraciones: 6\n"
          ],
          "name": "stdout"
        }
      ]
    },
    {
      "cell_type": "markdown",
      "metadata": {
        "id": "aWC1fYSeZIuK"
      },
      "source": [
        "# Ejercicio B.6\n",
        "Encuentra la $\\sqrt{2}$. Usando el método de la bisección."
      ]
    },
    {
      "cell_type": "code",
      "metadata": {
        "colab": {
          "base_uri": "https://localhost:8080/"
        },
        "id": "6QtLoWz_W0os",
        "outputId": "5417a69c-b308-401d-eb7f-f6ff07c0e7d0"
      },
      "source": [
        "# EJERCICIO B.6\n",
        "\n",
        "# Defino la función que cumple f(sqrt(2)) = 0, es decir,\n",
        "# f(x) = x^2 - 2\n",
        "def f(x):\n",
        "  return x**(2)-2\n",
        "\n",
        "\n",
        "# Define parámetros\n",
        "\n",
        "a,b = 0,2           # Valor del intervalo [a,b]\n",
        "c = (a+b)/2         # Punto medio del intervalo\n",
        "it = 0              # Número de iteraciones\n",
        "precision = 2*10**-2    # Precisión\n",
        "\n",
        "\n",
        "# Calcula la raiz en el intervalo [-2,2] con el método de bisección\n",
        "while abs(f(c)) > precision:\n",
        "\n",
        "    # Calcula el punto medio\n",
        "    c = (a+b)/2\n",
        "\n",
        "    # Define los valores del nuevo intervalo\n",
        "    if f(a)*f(c) < 0:\n",
        "      b = c\n",
        "    elif f(b)*f(c) < 0:\n",
        "      a = c\n",
        "    # Acumula una iteración  \n",
        "    it += 1\n",
        "\n",
        "print('Valor de la raiz:',c)\n",
        "print('Número de iteraciones:',it)"
      ],
      "execution_count": null,
      "outputs": [
        {
          "output_type": "stream",
          "text": [
            "Valor de la raiz: 1.4140625\n",
            "Número de iteraciones: 8\n"
          ],
          "name": "stdout"
        }
      ]
    },
    {
      "cell_type": "markdown",
      "metadata": {
        "id": "AJ_U5FS6CcpB"
      },
      "source": [
        "# Ejercicio B.1\n",
        "\n",
        "Con la función $f(x) = x^{3} + 2x − 6$ localiza todas las raices. Para ello usa una tolerancia de 0.0001 y número máximo de iteraciones razonable.\n"
      ]
    },
    {
      "cell_type": "code",
      "metadata": {
        "colab": {
          "base_uri": "https://localhost:8080/"
        },
        "id": "TwfIzb6vDEtU",
        "outputId": "841470a5-21f2-4c99-dcf1-92ca94e17a1b"
      },
      "source": [
        "# Define la función\n",
        "def f(x):\n",
        "  return x**3 + 2*x - 6\n",
        "\n",
        "# Define la derivada de la función\n",
        "def df(x):\n",
        "  return 3*x**2 + 2\n",
        "\n",
        "# Función que calcula el siguiente punto del método de Newton\n",
        "def calculaPunto(xi):\n",
        "  return xi- (f(xi)/df(xi))\n",
        "\n",
        "# Define parámetros \n",
        "p = 0.5                  # Punto inicial\n",
        "it = 0                   # Número de iteraciones\n",
        "precision = 10**-4       # Precisión\n",
        "\n",
        "# Aplica método de Newton para buscar raices\n",
        "while abs(f(p)) > precision:\n",
        "  p = calculaPunto(p)\n",
        "  it += 1\n",
        "\n",
        "print('Numero de iteraciones:', it)\n",
        "print('Valor de la raiz:',p)"
      ],
      "execution_count": null,
      "outputs": [
        {
          "output_type": "stream",
          "text": [
            "Numero de iteraciones: 5\n",
            "Valor de la raiz: 1.4561642921869689\n"
          ],
          "name": "stdout"
        }
      ]
    },
    {
      "cell_type": "markdown",
      "metadata": {
        "id": "ZwOf6Wg_EF-X"
      },
      "source": [
        "# Ejercicio B.3\n",
        "Halla una aproximación de la única raiz real de la ecuación $f(x) = x^{3} + 4x^{2} − 10$ utilizando el\n",
        "método de la bisección con un error inferior a $10^{-2}$. Hallar también una aproximación mediante 4 iteracciones con el método de Newton-Raphson, tomando como semilla $x_{0} = a$, siendo a el extremo izquierdo del intervalo considerado como inicio en el método de la bisección."
      ]
    },
    {
      "cell_type": "code",
      "metadata": {
        "colab": {
          "base_uri": "https://localhost:8080/"
        },
        "id": "vZT3q9VJEJKu",
        "outputId": "b4cdfb45-c82c-4375-d7f7-701fbad8fb8d"
      },
      "source": [
        "# EJERCICIO B.3\n",
        "\n",
        "# Defino la función\n",
        "def f(x):\n",
        "  return x**(3)+4*x**(2)-10\n",
        "\n",
        "def df(x):\n",
        "  return 3*x**(2)+8*x\n",
        "\n",
        "# Función que calcula el siguiente punto del método de Newton\n",
        "def calculaPunto(xi):\n",
        "  return xi-(f(xi)/df(xi))\n",
        "\n",
        "# Define parámetros\n",
        "\n",
        "a,b = 0.5,2           # Valor del intervalo [a,b]\n",
        "c = (a+b)/2         # Punto medio del intervalo\n",
        "it = 0              # Número de iteraciones\n",
        "precision = 10**-2    # Precisión\n",
        "\n",
        "\n",
        "# Calcula la raiz en el intervalo [0.5,2] con el método de bisección\n",
        "while abs(f(c)) > precision:\n",
        "\n",
        "    # Calcula el punto medio\n",
        "    c = (a+b)/2\n",
        "\n",
        "    # Define los valores del nuevo intervalo\n",
        "    if f(a)*f(c) < 0:\n",
        "      b = c\n",
        "    elif f(b)*f(c) < 0:\n",
        "      a = c\n",
        "    # Acumula una iteración  \n",
        "    it += 1\n",
        "\n",
        "print('Valor de la raiz (método de bisección):',c)\n",
        "print('Número de iteraciones (método de bisección):',it)\n",
        "\n",
        "# Define parámetros\n",
        "p = 0.5       # Punto inicial\n",
        "it = 0        # Número de iteraciones\n",
        "maxIt = 4     # Máximo de iteraciones\n",
        "\n",
        "# Aplica método de Newton para buscar raices\n",
        "while it < maxIt:\n",
        "  p = calculaPunto(p)\n",
        "  it += 1\n",
        "\n",
        "print('Valor de la raiz (método de Newton):',p)\n",
        "print('Número de iteraciones (método de Newton):',it)"
      ],
      "execution_count": null,
      "outputs": [
        {
          "output_type": "stream",
          "text": [
            "Valor de la raiz (método de bisección): 1.36572265625\n",
            "Número de iteraciones (método de bisección): 10\n",
            "Valor de la raiz (método de Newton): 1.3657438581841255\n",
            "Número de iteraciones (método de Newton): 4\n"
          ],
          "name": "stdout"
        }
      ]
    },
    {
      "cell_type": "markdown",
      "metadata": {
        "id": "22TTbpr_HeeW"
      },
      "source": [
        "# Ejercicio B.4\n",
        "Hallar una aproximación de la única raiz real de $x^{3} + 3x^{2} − 8 = 0$ con un error menor que $10^{-2}$ usando: \n",
        "1. El método de bisección \n",
        "2. El método de Newton-Raphson\n"
      ]
    },
    {
      "cell_type": "code",
      "metadata": {
        "colab": {
          "base_uri": "https://localhost:8080/"
        },
        "id": "xZLGQyCPHcWO",
        "outputId": "9cc02077-4b80-4032-d543-936ec89ee1e9"
      },
      "source": [
        "# EJERCICIO B.4\n",
        "\n",
        "# Defino la función\n",
        "def f(x):\n",
        "  return x**(3)+3*x**(2)-8\n",
        "\n",
        "# Defino la derivada\n",
        "def df(x):\n",
        "  return 3*x**(2)+6*x\n",
        "\n",
        "# Función que calcula el siguiente punto del método de Newton\n",
        "def calculaPunto(xi):\n",
        "  return xi-(f(xi)/df(xi))\n",
        "\n",
        "# Define parámetros\n",
        "\n",
        "a,b = 1,2           # Valor del intervalo [a,b]\n",
        "c = (a+b)/2         # Punto medio del intervalo\n",
        "it = 0              # Número de iteraciones\n",
        "precision = 10**-2    # Precisión\n",
        "\n",
        "\n",
        "# Calcula la raiz en el intervalo [1,2] con el método de bisección\n",
        "while abs(f(c)) > precision:\n",
        "\n",
        "    # Calcula el punto medio\n",
        "    c = (a+b)/2\n",
        "\n",
        "    # Define los valores del nuevo intervalo\n",
        "    if f(a)*f(c) < 0:\n",
        "      b = c\n",
        "    elif f(b)*f(c) < 0:\n",
        "      a = c\n",
        "    # Acumula una iteración  \n",
        "    it += 1\n",
        "\n",
        "print('Valor de la raiz (método de bisección):',c)\n",
        "print('Número de iteraciones (método de bisección):',it)\n",
        "\n",
        "# Define parámetros\n",
        "p = 1     # Punto inicial\n",
        "it = 0    # Número de iteraciones\n",
        "\n",
        "# Aplica método de Newton para buscar raices\n",
        "while abs(f(p)) > precision:\n",
        "  p = calculaPunto(p)\n",
        "  it += 1\n",
        "\n",
        "print('Valor de la raiz (método de Newton):',p)\n",
        "print('Número de iteraciones (método de Newton):',it)"
      ],
      "execution_count": null,
      "outputs": [
        {
          "output_type": "stream",
          "text": [
            "Valor de la raiz (método de bisección): 1.35546875\n",
            "Número de iteraciones (método de bisección): 8\n",
            "Valor de la raiz (método de Newton): 1.3553090794773575\n",
            "Número de iteraciones (método de Newton): 3\n"
          ],
          "name": "stdout"
        }
      ]
    },
    {
      "cell_type": "markdown",
      "metadata": {
        "id": "gXZEOOtpIso9"
      },
      "source": [
        "# Ejercicio B.7\n",
        "Usa el método de Newton para determinar la raiz de $tan(x) = x$"
      ]
    },
    {
      "cell_type": "markdown",
      "metadata": {
        "id": "PO1igXouLGd9"
      },
      "source": [
        "No se puede aplicar este método para encontrar la raiz de la función $tan(x) = x$"
      ]
    },
    {
      "cell_type": "markdown",
      "metadata": {
        "id": "j5W2YmZCJLpA"
      },
      "source": [
        "# Ejercicio B.8\n",
        "Determina los puntos fijos de la función $g(x) = x^{2} − 2$\n"
      ]
    },
    {
      "cell_type": "code",
      "metadata": {
        "colab": {
          "base_uri": "https://localhost:8080/"
        },
        "id": "UXLWWniXJWd_",
        "outputId": "d6adacfe-84c1-4a4b-aeec-0cb8e92cfafc"
      },
      "source": [
        "\n",
        "# Define g\n",
        "def g(x):\n",
        "  return x**(2) - 2\n",
        "\n",
        "\n",
        "\n",
        "# Define parámetros\n",
        "p = 0         # Punto inicial\n",
        "it = 0        # Número de iteraciones \n",
        "precision = 10**-3    # Precisión\n",
        "\n",
        "# Aplica método del punto fijo\n",
        "while abs(g(p) -p) > precision:\n",
        "  p = g(p)\n",
        "  it += 1\n",
        "\n",
        "print('Numero de iteraciones:', it)\n",
        "print('Valor del punto fijo:',p)\n",
        "\n",
        "# Define parámetros\n",
        "p = 1       # Punto inicial\n",
        "it = 0      # Número de iteraciones \n",
        "\n",
        "# Aplica método del punto fijo\n",
        "while abs(g(p) -p) > precision:\n",
        "  p = g(p)\n",
        "  it += 1\n",
        "\n",
        "print('Numero de iteraciones:', it)\n",
        "print('Valor del punto fijo:',p)"
      ],
      "execution_count": null,
      "outputs": [
        {
          "output_type": "stream",
          "text": [
            "Numero de iteraciones: 2\n",
            "Valor del punto fijo: 2\n",
            "Numero de iteraciones: 1\n",
            "Valor del punto fijo: -1\n"
          ],
          "name": "stdout"
        }
      ]
    }
  ]
}